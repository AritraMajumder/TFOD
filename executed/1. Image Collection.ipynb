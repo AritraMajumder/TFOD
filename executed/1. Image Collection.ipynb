{
 "cells": [
  {
   "cell_type": "markdown",
   "metadata": {},
   "source": [
    "# 1. Import Dependencies"
   ]
  },
  {
   "cell_type": "code",
   "execution_count": 2,
   "metadata": {},
   "outputs": [
    {
     "name": "stdout",
     "output_type": "stream",
     "text": [
      "Requirement already satisfied: opencv-python in d:\\tfod\\tfodcourse\\tfod\\lib\\site-packages (4.6.0.66)\n",
      "Requirement already satisfied: numpy>=1.17.3 in d:\\tfod\\tfodcourse\\tfod\\lib\\site-packages (from opencv-python) (1.23.1)\n"
     ]
    }
   ],
   "source": [
    "!pip install opencv-python"
   ]
  },
  {
   "cell_type": "code",
   "execution_count": 1,
   "metadata": {},
   "outputs": [],
   "source": [
    "# Import opencv\n",
    "import cv2 \n",
    "\n",
    "# Import uuid\n",
    "import uuid\n",
    "\n",
    "# Import Operating System\n",
    "import os\n",
    "\n",
    "# Import time\n",
    "import time"
   ]
  },
  {
   "cell_type": "markdown",
   "metadata": {},
   "source": [
    "# 2. Define Images to Collect"
   ]
  },
  {
   "cell_type": "code",
   "execution_count": 2,
   "metadata": {},
   "outputs": [],
   "source": [
    "labels = ['bottle', 'phone', 'letusC', '21BCT0078']\n",
    "number_imgs = 125"
   ]
  },
  {
   "cell_type": "code",
   "execution_count": 3,
   "metadata": {},
   "outputs": [
    {
     "data": {
      "text/plain": [
       "['bottle', 'phone', 'letusC', '21BCT0078']"
      ]
     },
     "execution_count": 3,
     "metadata": {},
     "output_type": "execute_result"
    }
   ],
   "source": [
    "labels #type=list"
   ]
  },
  {
   "cell_type": "markdown",
   "metadata": {},
   "source": [
    "# 3. Setup Folders "
   ]
  },
  {
   "cell_type": "code",
   "execution_count": 4,
   "metadata": {},
   "outputs": [],
   "source": [
    "IMAGES_PATH = os.path.join('Tensorflow', 'workspace', 'images', 'collectedimages')"
   ]
  },
  {
   "cell_type": "code",
   "execution_count": 5,
   "metadata": {},
   "outputs": [
    {
     "data": {
      "text/plain": [
       "'Tensorflow\\\\workspace\\\\images\\\\collectedimages'"
      ]
     },
     "execution_count": 5,
     "metadata": {},
     "output_type": "execute_result"
    }
   ],
   "source": [
    "IMAGES_PATH"
   ]
  },
  {
   "cell_type": "code",
   "execution_count": 6,
   "metadata": {},
   "outputs": [
    {
     "data": {
      "text/plain": [
       "'nt'"
      ]
     },
     "execution_count": 6,
     "metadata": {},
     "output_type": "execute_result"
    }
   ],
   "source": [
    "os.name"
   ]
  },
  {
   "cell_type": "code",
   "execution_count": 7,
   "metadata": {},
   "outputs": [],
   "source": [
    "if not os.path.exists(IMAGES_PATH):\n",
    "    if os.name == 'posix':\n",
    "        !mkdir -p {IMAGES_PATH}\n",
    "    if os.name == 'nt':\n",
    "         !mkdir {IMAGES_PATH}\n",
    "for label in labels:\n",
    "    path = os.path.join(IMAGES_PATH, label)\n",
    "    if not os.path.exists(path):\n",
    "        !mkdir {path}"
   ]
  },
  {
   "cell_type": "markdown",
   "metadata": {},
   "source": [
    "# 4. Capture Images"
   ]
  },
  {
   "cell_type": "code",
   "execution_count": 8,
   "metadata": {},
   "outputs": [
    {
     "name": "stdout",
     "output_type": "stream",
     "text": [
      "Collecting images for bottle\n",
      "Collecting image 0\n",
      "Collecting image 1\n",
      "Collecting image 2\n",
      "Collecting image 3\n",
      "Collecting image 4\n",
      "Collecting image 5\n",
      "Collecting image 6\n",
      "Collecting image 7\n",
      "Collecting image 8\n",
      "Collecting image 9\n",
      "Collecting image 10\n",
      "Collecting image 11\n",
      "Collecting image 12\n",
      "Collecting image 13\n",
      "Collecting image 14\n",
      "Collecting image 15\n",
      "Collecting image 16\n",
      "Collecting image 17\n",
      "Collecting image 18\n",
      "Collecting image 19\n",
      "Collecting images for 21BCT0078\n",
      "Collecting image 0\n",
      "Collecting image 1\n",
      "Collecting image 2\n",
      "Collecting image 3\n",
      "Collecting image 4\n",
      "Collecting image 5\n",
      "Collecting image 6\n",
      "Collecting image 7\n",
      "Collecting image 8\n",
      "Collecting image 9\n",
      "Collecting image 10\n",
      "Collecting image 11\n",
      "Collecting image 12\n",
      "Collecting image 13\n",
      "Collecting image 14\n",
      "Collecting image 15\n",
      "Collecting image 16\n",
      "Collecting image 17\n",
      "Collecting image 18\n",
      "Collecting image 19\n"
     ]
    }
   ],
   "source": [
    "for label in labels:\n",
    "    cap = cv2.VideoCapture(0) #activates webcam\n",
    "    print('Collecting images for {}'.format(label))\n",
    "    time.sleep(5)\n",
    "    for imgnum in range(number_imgs):\n",
    "        print('Collecting image {}'.format(imgnum))\n",
    "        ret, frame = cap.read()\n",
    "        imgname = os.path.join(IMAGES_PATH,label,label+'.'+'{}.jpg'.format(str(uuid.uuid1())))\n",
    "        cv2.imwrite(imgname, frame)\n",
    "        cv2.imshow('frame', frame)\n",
    "        time.sleep(2)\n",
    "\n",
    "        if cv2.waitKey(1) & 0xFF == ord('q'):\n",
    "            break\n",
    "cap.release()\n",
    "cv2.destroyAllWindows()"
   ]
  },
  {
   "cell_type": "markdown",
   "metadata": {},
   "source": [
    "# 5. Image Labelling"
   ]
  },
  {
   "cell_type": "code",
   "execution_count": 27,
   "metadata": {},
   "outputs": [
    {
     "name": "stdout",
     "output_type": "stream",
     "text": [
      "Requirement already satisfied: pyqt5 in d:\\tfod\\tfodcourse\\tfod\\lib\\site-packages (5.15.7)\n",
      "Requirement already satisfied: lxml in d:\\tfod\\tfodcourse\\tfod\\lib\\site-packages (4.9.1)\n",
      "Requirement already satisfied: PyQt5-Qt5>=5.15.0 in d:\\tfod\\tfodcourse\\tfod\\lib\\site-packages (from pyqt5) (5.15.2)\n",
      "Requirement already satisfied: PyQt5-sip<13,>=12.11 in d:\\tfod\\tfodcourse\\tfod\\lib\\site-packages (from pyqt5) (12.11.0)\n"
     ]
    }
   ],
   "source": [
    "!pip install --upgrade pyqt5 lxml"
   ]
  },
  {
   "cell_type": "code",
   "execution_count": 26,
   "metadata": {},
   "outputs": [
    {
     "name": "stdout",
     "output_type": "stream",
     "text": [
      "Package           Version\n",
      "----------------- --------\n",
      "asttokens         2.0.7\n",
      "backcall          0.2.0\n",
      "colorama          0.4.5\n",
      "debugpy           1.6.2\n",
      "decorator         5.1.1\n",
      "entrypoints       0.4\n",
      "executing         0.9.1\n",
      "ipykernel         6.15.1\n",
      "ipython           8.4.0\n",
      "jedi              0.18.1\n",
      "jupyter-client    7.3.4\n",
      "jupyter-core      4.11.1\n",
      "lxml              4.9.1\n",
      "matplotlib-inline 0.1.3\n",
      "nest-asyncio      1.5.5\n",
      "numpy             1.23.1\n",
      "opencv-python     4.6.0.66\n",
      "packaging         21.3\n",
      "parso             0.8.3\n",
      "pickleshare       0.7.5\n",
      "pip               22.2.2\n",
      "prompt-toolkit    3.0.30\n",
      "psutil            5.9.1\n",
      "pure-eval         0.2.2\n",
      "Pygments          2.12.0\n",
      "pyparsing         3.0.9\n",
      "PyQt5             5.15.7\n",
      "PyQt5-Qt5         5.15.2\n",
      "PyQt5-sip         12.11.0\n",
      "python-dateutil   2.8.2\n",
      "pywin32           304\n",
      "pyzmq             23.2.0\n",
      "setuptools        63.2.0\n",
      "six               1.16.0\n",
      "stack-data        0.3.0\n",
      "tornado           6.2\n",
      "traitlets         5.3.0\n",
      "wcwidth           0.2.5\n"
     ]
    }
   ],
   "source": [
    "!pip list"
   ]
  },
  {
   "cell_type": "code",
   "execution_count": 8,
   "metadata": {},
   "outputs": [],
   "source": [
    "LABELIMG_PATH = os.path.join('Tensorflow', 'labelimg')"
   ]
  },
  {
   "cell_type": "code",
   "execution_count": 9,
   "metadata": {},
   "outputs": [],
   "source": [
    "if not os.path.exists(LABELIMG_PATH):\n",
    "    !mkdir {LABELIMG_PATH}\n",
    "    !git clone https://github.com/tzutalin/labelImg {LABELIMG_PATH}"
   ]
  },
  {
   "cell_type": "code",
   "execution_count": 10,
   "metadata": {},
   "outputs": [
    {
     "data": {
      "text/plain": [
       "'Tensorflow\\\\labelimg'"
      ]
     },
     "execution_count": 10,
     "metadata": {},
     "output_type": "execute_result"
    }
   ],
   "source": [
    "LABELIMG_PATH"
   ]
  },
  {
   "cell_type": "code",
   "execution_count": 11,
   "metadata": {},
   "outputs": [],
   "source": [
    "if os.name == 'posix':\n",
    "    !cd {LABELIMG_PATH} && make qt5py3\n",
    "if os.name =='nt':\n",
    "    !cd {LABELIMG_PATH} && pyrcc5 -o libs/resources.py resources.qrc"
   ]
  },
  {
   "cell_type": "code",
   "execution_count": 14,
   "metadata": {},
   "outputs": [
    {
     "name": "stdout",
     "output_type": "stream",
     "text": [
      "Not find:/data/predefined_classes.txt (optional)\n",
      "Image:D:\\TFOD\\TFODCourse\\Tensorflow\\workspace\\images\\collectedimages\\thumbs_up\\0001.jpg -> Annotation:D:/TFOD/TFODCourse/Tensorflow/workspace/images/collectedimages/thumbs_up\\0001.xml\n",
      "Image:D:\\TFOD\\TFODCourse\\Tensorflow\\workspace\\images\\collectedimages\\thumbs_up\\0005.jpg -> Annotation:D:/TFOD/TFODCourse/Tensorflow/workspace/images/collectedimages/thumbs_up\\0005.xml\n",
      "Image:D:\\TFOD\\TFODCourse\\Tensorflow\\workspace\\images\\collectedimages\\thumbs_up\\0009.jpg -> Annotation:D:/TFOD/TFODCourse/Tensorflow/workspace/images/collectedimages/thumbs_up\\0009.xml\n",
      "Image:D:\\TFOD\\TFODCourse\\Tensorflow\\workspace\\images\\collectedimages\\thumbs_up\\0013.jpg -> Annotation:D:/TFOD/TFODCourse/Tensorflow/workspace/images/collectedimages/thumbs_up\\0013.xml\n",
      "Image:D:\\TFOD\\TFODCourse\\Tensorflow\\workspace\\images\\collectedimages\\thumbs_up\\0017.jpg -> Annotation:D:/TFOD/TFODCourse/Tensorflow/workspace/images/collectedimages/thumbs_up\\0017.xml\n",
      "Image:D:\\TFOD\\TFODCourse\\Tensorflow\\workspace\\images\\collectedimages\\thumbs_up\\0021.jpg -> Annotation:D:/TFOD/TFODCourse/Tensorflow/workspace/images/collectedimages/thumbs_up\\0021.xml\n",
      "Image:D:\\TFOD\\TFODCourse\\Tensorflow\\workspace\\images\\collectedimages\\thumbs_up\\0025.jpg -> Annotation:D:/TFOD/TFODCourse/Tensorflow/workspace/images/collectedimages/thumbs_up\\0025.xml\n",
      "Image:D:\\TFOD\\TFODCourse\\Tensorflow\\workspace\\images\\collectedimages\\thumbs_up\\0029.jpg -> Annotation:D:/TFOD/TFODCourse/Tensorflow/workspace/images/collectedimages/thumbs_up\\0029.xml\n",
      "Image:D:\\TFOD\\TFODCourse\\Tensorflow\\workspace\\images\\collectedimages\\thumbs_up\\0033.jpg -> Annotation:D:/TFOD/TFODCourse/Tensorflow/workspace/images/collectedimages/thumbs_up\\0033.xml\n",
      "Image:D:\\TFOD\\TFODCourse\\Tensorflow\\workspace\\images\\collectedimages\\thumbs_up\\0037.jpg -> Annotation:D:/TFOD/TFODCourse/Tensorflow/workspace/images/collectedimages/thumbs_up\\0037.xml\n",
      "Image:D:\\TFOD\\TFODCourse\\Tensorflow\\workspace\\images\\collectedimages\\thumbs_up\\0041.jpg -> Annotation:D:/TFOD/TFODCourse/Tensorflow/workspace/images/collectedimages/thumbs_up\\0041.xml\n",
      "Image:D:\\TFOD\\TFODCourse\\Tensorflow\\workspace\\images\\collectedimages\\thumbs_up\\0045.jpg -> Annotation:D:/TFOD/TFODCourse/Tensorflow/workspace/images/collectedimages/thumbs_up\\0045.xml\n",
      "Image:D:\\TFOD\\TFODCourse\\Tensorflow\\workspace\\images\\collectedimages\\thumbs_up\\0049.jpg -> Annotation:D:/TFOD/TFODCourse/Tensorflow/workspace/images/collectedimages/thumbs_up\\0049.xml\n",
      "Image:D:\\TFOD\\TFODCourse\\Tensorflow\\workspace\\images\\collectedimages\\thumbs_up\\0053.jpg -> Annotation:D:/TFOD/TFODCourse/Tensorflow/workspace/images/collectedimages/thumbs_up\\0053.xml\n",
      "Image:D:\\TFOD\\TFODCourse\\Tensorflow\\workspace\\images\\collectedimages\\thumbs_up\\0057.jpg -> Annotation:D:/TFOD/TFODCourse/Tensorflow/workspace/images/collectedimages/thumbs_up\\0057.xml\n",
      "Image:D:\\TFOD\\TFODCourse\\Tensorflow\\workspace\\images\\collectedimages\\thumbs_up\\0061.jpg -> Annotation:D:/TFOD/TFODCourse/Tensorflow/workspace/images/collectedimages/thumbs_up\\0061.xml\n",
      "Image:D:\\TFOD\\TFODCourse\\Tensorflow\\workspace\\images\\collectedimages\\thumbs_up\\0065.jpg -> Annotation:D:/TFOD/TFODCourse/Tensorflow/workspace/images/collectedimages/thumbs_up\\0065.xml\n",
      "Image:D:\\TFOD\\TFODCourse\\Tensorflow\\workspace\\images\\collectedimages\\thumbs_up\\0069.jpg -> Annotation:D:/TFOD/TFODCourse/Tensorflow/workspace/images/collectedimages/thumbs_up\\0069.xml\n",
      "Image:D:\\TFOD\\TFODCourse\\Tensorflow\\workspace\\images\\collectedimages\\thumbs_up\\0073.jpg -> Annotation:D:/TFOD/TFODCourse/Tensorflow/workspace/images/collectedimages/thumbs_up\\0073.xml\n",
      "Image:D:\\TFOD\\TFODCourse\\Tensorflow\\workspace\\images\\collectedimages\\thumbs_up\\0077.jpg -> Annotation:D:/TFOD/TFODCourse/Tensorflow/workspace/images/collectedimages/thumbs_up\\0077.xml\n",
      "Image:D:\\TFOD\\TFODCourse\\Tensorflow\\workspace\\images\\collectedimages\\thumbs_up\\0081.jpg -> Annotation:D:/TFOD/TFODCourse/Tensorflow/workspace/images/collectedimages/thumbs_up\\0081.xml\n",
      "Image:D:\\TFOD\\TFODCourse\\Tensorflow\\workspace\\images\\collectedimages\\thumbs_up\\0085.jpg -> Annotation:D:/TFOD/TFODCourse/Tensorflow/workspace/images/collectedimages/thumbs_up\\0085.xml\n",
      "Image:D:\\TFOD\\TFODCourse\\Tensorflow\\workspace\\images\\collectedimages\\thumbs_up\\0089.jpg -> Annotation:D:/TFOD/TFODCourse/Tensorflow/workspace/images/collectedimages/thumbs_up\\0089.xml\n",
      "Image:D:\\TFOD\\TFODCourse\\Tensorflow\\workspace\\images\\collectedimages\\thumbs_up\\0093.jpg -> Annotation:D:/TFOD/TFODCourse/Tensorflow/workspace/images/collectedimages/thumbs_up\\0093.xml\n",
      "Image:D:\\TFOD\\TFODCourse\\Tensorflow\\workspace\\images\\collectedimages\\thumbs_up\\0097.jpg -> Annotation:D:/TFOD/TFODCourse/Tensorflow/workspace/images/collectedimages/thumbs_up\\0097.xml\n",
      "Image:D:\\TFOD\\TFODCourse\\Tensorflow\\workspace\\images\\collectedimages\\thumbs_up\\0101.jpg -> Annotation:D:/TFOD/TFODCourse/Tensorflow/workspace/images/collectedimages/thumbs_up\\0101.xml\n",
      "Image:D:\\TFOD\\TFODCourse\\Tensorflow\\workspace\\images\\collectedimages\\thumbs_up\\0105.jpg -> Annotation:D:/TFOD/TFODCourse/Tensorflow/workspace/images/collectedimages/thumbs_up\\0105.xml\n",
      "Image:D:\\TFOD\\TFODCourse\\Tensorflow\\workspace\\images\\collectedimages\\thumbs_up\\0109.jpg -> Annotation:D:/TFOD/TFODCourse/Tensorflow/workspace/images/collectedimages/thumbs_up\\0109.xml\n",
      "Image:D:\\TFOD\\TFODCourse\\Tensorflow\\workspace\\images\\collectedimages\\thumbs_up\\0113.jpg -> Annotation:D:/TFOD/TFODCourse/Tensorflow/workspace/images/collectedimages/thumbs_up\\0113.xml\n",
      "Image:D:\\TFOD\\TFODCourse\\Tensorflow\\workspace\\images\\collectedimages\\thumbs_up\\0117.jpg -> Annotation:D:/TFOD/TFODCourse/Tensorflow/workspace/images/collectedimages/thumbs_up\\0117.xml\n",
      "Image:D:\\TFOD\\TFODCourse\\Tensorflow\\workspace\\images\\collectedimages\\thumbs_up\\0125.jpg -> Annotation:D:/TFOD/TFODCourse/Tensorflow/workspace/images/collectedimages/thumbs_up\\0125.xml\n",
      "Image:D:\\TFOD\\TFODCourse\\Tensorflow\\workspace\\images\\collectedimages\\thumbs_up\\0129.jpg -> Annotation:D:/TFOD/TFODCourse/Tensorflow/workspace/images/collectedimages/thumbs_up\\0129.xml\n",
      "Image:D:\\TFOD\\TFODCourse\\Tensorflow\\workspace\\images\\collectedimages\\thumbs_up\\0133.jpg -> Annotation:D:/TFOD/TFODCourse/Tensorflow/workspace/images/collectedimages/thumbs_up\\0133.xml\n",
      "Image:D:\\TFOD\\TFODCourse\\Tensorflow\\workspace\\images\\collectedimages\\thumbs_up\\0137.jpg -> Annotation:D:/TFOD/TFODCourse/Tensorflow/workspace/images/collectedimages/thumbs_up\\0137.xml\n",
      "Image:D:\\TFOD\\TFODCourse\\Tensorflow\\workspace\\images\\collectedimages\\thumbs_up\\0141.jpg -> Annotation:D:/TFOD/TFODCourse/Tensorflow/workspace/images/collectedimages/thumbs_up\\0141.xml\n",
      "Image:D:\\TFOD\\TFODCourse\\Tensorflow\\workspace\\images\\collectedimages\\thumbs_up\\0145.jpg -> Annotation:D:/TFOD/TFODCourse/Tensorflow/workspace/images/collectedimages/thumbs_up\\0145.xml\n",
      "Image:D:\\TFOD\\TFODCourse\\Tensorflow\\workspace\\images\\collectedimages\\thumbs_up\\0149.jpg -> Annotation:D:/TFOD/TFODCourse/Tensorflow/workspace/images/collectedimages/thumbs_up\\0149.xml\n",
      "Image:D:\\TFOD\\TFODCourse\\Tensorflow\\workspace\\images\\collectedimages\\thumbs_up\\0153.jpg -> Annotation:D:/TFOD/TFODCourse/Tensorflow/workspace/images/collectedimages/thumbs_up\\0153.xml\n",
      "Image:D:\\TFOD\\TFODCourse\\Tensorflow\\workspace\\images\\collectedimages\\thumbs_up\\0121.jpg -> Annotation:D:/TFOD/TFODCourse/Tensorflow/workspace/images/collectedimages/thumbs_up\\0121.xml\n",
      "Image:D:\\TFOD\\TFODCourse\\Tensorflow\\workspace\\images\\collectedimages\\thumbs_up\\0157.jpg -> Annotation:D:/TFOD/TFODCourse/Tensorflow/workspace/images/collectedimages/thumbs_up\\0157.xml\n",
      "Image:D:\\TFOD\\TFODCourse\\Tensorflow\\workspace\\images\\collectedimages\\thumbs_up\\0161.jpg -> Annotation:D:/TFOD/TFODCourse/Tensorflow/workspace/images/collectedimages/thumbs_up\\0161.xml\n",
      "Cancel creation.\n",
      "Image:D:\\TFOD\\TFODCourse\\Tensorflow\\workspace\\images\\collectedimages\\thumbs_up\\0165.jpg -> Annotation:D:/TFOD/TFODCourse/Tensorflow/workspace/images/collectedimages/thumbs_up\\0165.xml\n",
      "Image:D:\\TFOD\\TFODCourse\\Tensorflow\\workspace\\images\\collectedimages\\thumbs_up\\0169.jpg -> Annotation:D:/TFOD/TFODCourse/Tensorflow/workspace/images/collectedimages/thumbs_up\\0169.xml\n",
      "Image:D:\\TFOD\\TFODCourse\\Tensorflow\\workspace\\images\\collectedimages\\thumbs_up\\0173.jpg -> Annotation:D:/TFOD/TFODCourse/Tensorflow/workspace/images/collectedimages/thumbs_up\\0173.xml\n",
      "Image:D:\\TFOD\\TFODCourse\\Tensorflow\\workspace\\images\\collectedimages\\thumbs_up\\0177.jpg -> Annotation:D:/TFOD/TFODCourse/Tensorflow/workspace/images/collectedimages/thumbs_up\\0177.xml\n",
      "Image:D:\\TFOD\\TFODCourse\\Tensorflow\\workspace\\images\\collectedimages\\thumbs_up\\0181.jpg -> Annotation:D:/TFOD/TFODCourse/Tensorflow/workspace/images/collectedimages/thumbs_up\\0181.xml\n",
      "Cancel creation.\n",
      "Image:D:\\TFOD\\TFODCourse\\Tensorflow\\workspace\\images\\collectedimages\\thumbs_up\\0185.jpg -> Annotation:D:/TFOD/TFODCourse/Tensorflow/workspace/images/collectedimages/thumbs_up\\0185.xml\n",
      "Image:D:\\TFOD\\TFODCourse\\Tensorflow\\workspace\\images\\collectedimages\\thumbs_up\\0189.jpg -> Annotation:D:/TFOD/TFODCourse/Tensorflow/workspace/images/collectedimages/thumbs_up\\0189.xml\n",
      "Cancel creation.\n",
      "Image:D:\\TFOD\\TFODCourse\\Tensorflow\\workspace\\images\\collectedimages\\thumbs_up\\0193.jpg -> Annotation:D:/TFOD/TFODCourse/Tensorflow/workspace/images/collectedimages/thumbs_up\\0193.xml\n",
      "Image:D:\\TFOD\\TFODCourse\\Tensorflow\\workspace\\images\\collectedimages\\thumbs_up\\0197.jpg -> Annotation:D:/TFOD/TFODCourse/Tensorflow/workspace/images/collectedimages/thumbs_up\\0197.xml\n",
      "Image:D:\\TFOD\\TFODCourse\\Tensorflow\\workspace\\images\\collectedimages\\thumbs_up\\0201.jpg -> Annotation:D:/TFOD/TFODCourse/Tensorflow/workspace/images/collectedimages/thumbs_up\\0201.xml\n",
      "Image:D:\\TFOD\\TFODCourse\\Tensorflow\\workspace\\images\\collectedimages\\thumbs_up\\0205.jpg -> Annotation:D:/TFOD/TFODCourse/Tensorflow/workspace/images/collectedimages/thumbs_up\\0205.xml\n",
      "Image:D:\\TFOD\\TFODCourse\\Tensorflow\\workspace\\images\\collectedimages\\thumbs_up\\0209.jpg -> Annotation:D:/TFOD/TFODCourse/Tensorflow/workspace/images/collectedimages/thumbs_up\\0209.xml\n",
      "Image:D:\\TFOD\\TFODCourse\\Tensorflow\\workspace\\images\\collectedimages\\thumbs_up\\0213.jpg -> Annotation:D:/TFOD/TFODCourse/Tensorflow/workspace/images/collectedimages/thumbs_up\\0213.xml\n",
      "Image:D:\\TFOD\\TFODCourse\\Tensorflow\\workspace\\images\\collectedimages\\thumbs_up\\0217.jpg -> Annotation:D:/TFOD/TFODCourse/Tensorflow/workspace/images/collectedimages/thumbs_up\\0217.xml\n",
      "Image:D:\\TFOD\\TFODCourse\\Tensorflow\\workspace\\images\\collectedimages\\thumbs_up\\0221.jpg -> Annotation:D:/TFOD/TFODCourse/Tensorflow/workspace/images/collectedimages/thumbs_up\\0221.xml\n",
      "Image:D:\\TFOD\\TFODCourse\\Tensorflow\\workspace\\images\\collectedimages\\thumbs_up\\0225.jpg -> Annotation:D:/TFOD/TFODCourse/Tensorflow/workspace/images/collectedimages/thumbs_up\\0225.xml\n",
      "Image:D:\\TFOD\\TFODCourse\\Tensorflow\\workspace\\images\\collectedimages\\thumbs_up\\0229.jpg -> Annotation:D:/TFOD/TFODCourse/Tensorflow/workspace/images/collectedimages/thumbs_up\\0229.xml\n",
      "Image:D:\\TFOD\\TFODCourse\\Tensorflow\\workspace\\images\\collectedimages\\thumbs_up\\0233.jpg -> Annotation:D:/TFOD/TFODCourse/Tensorflow/workspace/images/collectedimages/thumbs_up\\0233.xml\n",
      "Image:D:\\TFOD\\TFODCourse\\Tensorflow\\workspace\\images\\collectedimages\\thumbs_up\\0237.jpg -> Annotation:D:/TFOD/TFODCourse/Tensorflow/workspace/images/collectedimages/thumbs_up\\0237.xml\n",
      "Image:D:\\TFOD\\TFODCourse\\Tensorflow\\workspace\\images\\collectedimages\\thumbs_up\\0241.jpg -> Annotation:D:/TFOD/TFODCourse/Tensorflow/workspace/images/collectedimages/thumbs_up\\0241.xml\n",
      "Image:D:\\TFOD\\TFODCourse\\Tensorflow\\workspace\\images\\collectedimages\\thumbs_up\\0245.jpg -> Annotation:D:/TFOD/TFODCourse/Tensorflow/workspace/images/collectedimages/thumbs_up\\0245.xml\n",
      "Image:D:\\TFOD\\TFODCourse\\Tensorflow\\workspace\\images\\collectedimages\\thumbs_up\\0249.jpg -> Annotation:D:/TFOD/TFODCourse/Tensorflow/workspace/images/collectedimages/thumbs_up\\0249.xml\n",
      "Image:D:\\TFOD\\TFODCourse\\Tensorflow\\workspace\\images\\collectedimages\\thumbs_up\\0253.jpg -> Annotation:D:/TFOD/TFODCourse/Tensorflow/workspace/images/collectedimages/thumbs_up\\0253.xml\n",
      "Image:D:\\TFOD\\TFODCourse\\Tensorflow\\workspace\\images\\collectedimages\\thumbs_up\\0257.jpg -> Annotation:D:/TFOD/TFODCourse/Tensorflow/workspace/images/collectedimages/thumbs_up\\0257.xml\n",
      "Image:D:\\TFOD\\TFODCourse\\Tensorflow\\workspace\\images\\collectedimages\\thumbs_up\\0261.jpg -> Annotation:D:/TFOD/TFODCourse/Tensorflow/workspace/images/collectedimages/thumbs_up\\0261.xml\n",
      "Image:D:\\TFOD\\TFODCourse\\Tensorflow\\workspace\\images\\collectedimages\\thumbs_up\\0265.jpg -> Annotation:D:/TFOD/TFODCourse/Tensorflow/workspace/images/collectedimages/thumbs_up\\0265.xml\n",
      "Image:D:\\TFOD\\TFODCourse\\Tensorflow\\workspace\\images\\collectedimages\\thumbs_up\\0269.jpg -> Annotation:D:/TFOD/TFODCourse/Tensorflow/workspace/images/collectedimages/thumbs_up\\0269.xml\n",
      "Image:D:\\TFOD\\TFODCourse\\Tensorflow\\workspace\\images\\collectedimages\\thumbs_up\\0273.jpg -> Annotation:D:/TFOD/TFODCourse/Tensorflow/workspace/images/collectedimages/thumbs_up\\0273.xml\n",
      "Image:D:\\TFOD\\TFODCourse\\Tensorflow\\workspace\\images\\collectedimages\\thumbs_up\\0277.jpg -> Annotation:D:/TFOD/TFODCourse/Tensorflow/workspace/images/collectedimages/thumbs_up\\0277.xml\n",
      "Image:D:\\TFOD\\TFODCourse\\Tensorflow\\workspace\\images\\collectedimages\\thumbs_up\\0281.jpg -> Annotation:D:/TFOD/TFODCourse/Tensorflow/workspace/images/collectedimages/thumbs_up\\0281.xml\n",
      "Image:D:\\TFOD\\TFODCourse\\Tensorflow\\workspace\\images\\collectedimages\\thumbs_up\\0285.jpg -> Annotation:D:/TFOD/TFODCourse/Tensorflow/workspace/images/collectedimages/thumbs_up\\0285.xml\n",
      "Image:D:\\TFOD\\TFODCourse\\Tensorflow\\workspace\\images\\collectedimages\\thumbs_up\\0289.jpg -> Annotation:D:/TFOD/TFODCourse/Tensorflow/workspace/images/collectedimages/thumbs_up\\0289.xml\n",
      "Image:D:\\TFOD\\TFODCourse\\Tensorflow\\workspace\\images\\collectedimages\\thumbs_up\\0293.jpg -> Annotation:D:/TFOD/TFODCourse/Tensorflow/workspace/images/collectedimages/thumbs_up\\0293.xml\n",
      "Image:D:\\TFOD\\TFODCourse\\Tensorflow\\workspace\\images\\collectedimages\\thumbs_up\\0297.jpg -> Annotation:D:/TFOD/TFODCourse/Tensorflow/workspace/images/collectedimages/thumbs_up\\0297.xml\n",
      "Cancel creation.\n",
      "Image:D:\\TFOD\\TFODCourse\\Tensorflow\\workspace\\images\\collectedimages\\thumbs_up\\0301.jpg -> Annotation:D:/TFOD/TFODCourse/Tensorflow/workspace/images/collectedimages/thumbs_up\\0301.xml\n",
      "Image:D:\\TFOD\\TFODCourse\\Tensorflow\\workspace\\images\\collectedimages\\thumbs_up\\0305.jpg -> Annotation:D:/TFOD/TFODCourse/Tensorflow/workspace/images/collectedimages/thumbs_up\\0305.xml\n",
      "Image:D:\\TFOD\\TFODCourse\\Tensorflow\\workspace\\images\\collectedimages\\thumbs_up\\0309.jpg -> Annotation:D:/TFOD/TFODCourse/Tensorflow/workspace/images/collectedimages/thumbs_up\\0309.xml\n",
      "Image:D:\\TFOD\\TFODCourse\\Tensorflow\\workspace\\images\\collectedimages\\thumbs_up\\0313.jpg -> Annotation:D:/TFOD/TFODCourse/Tensorflow/workspace/images/collectedimages/thumbs_up\\0313.xml\n",
      "Image:D:\\TFOD\\TFODCourse\\Tensorflow\\workspace\\images\\collectedimages\\thumbs_up\\0317.jpg -> Annotation:D:/TFOD/TFODCourse/Tensorflow/workspace/images/collectedimages/thumbs_up\\0317.xml\n",
      "Image:D:\\TFOD\\TFODCourse\\Tensorflow\\workspace\\images\\collectedimages\\thumbs_up\\0321.jpg -> Annotation:D:/TFOD/TFODCourse/Tensorflow/workspace/images/collectedimages/thumbs_up\\0321.xml\n",
      "Image:D:\\TFOD\\TFODCourse\\Tensorflow\\workspace\\images\\collectedimages\\thumbs_up\\0325.jpg -> Annotation:D:/TFOD/TFODCourse/Tensorflow/workspace/images/collectedimages/thumbs_up\\0325.xml\n",
      "Image:D:\\TFOD\\TFODCourse\\Tensorflow\\workspace\\images\\collectedimages\\thumbs_up\\0329.jpg -> Annotation:D:/TFOD/TFODCourse/Tensorflow/workspace/images/collectedimages/thumbs_up\\0329.xml\n",
      "Image:D:\\TFOD\\TFODCourse\\Tensorflow\\workspace\\images\\collectedimages\\thumbs_up\\0333.jpg -> Annotation:D:/TFOD/TFODCourse/Tensorflow/workspace/images/collectedimages/thumbs_up\\0333.xml\n",
      "Image:D:\\TFOD\\TFODCourse\\Tensorflow\\workspace\\images\\collectedimages\\thumbs_up\\0337.jpg -> Annotation:D:/TFOD/TFODCourse/Tensorflow/workspace/images/collectedimages/thumbs_up\\0337.xml\n",
      "Image:D:\\TFOD\\TFODCourse\\Tensorflow\\workspace\\images\\collectedimages\\thumbs_up\\0341.jpg -> Annotation:D:/TFOD/TFODCourse/Tensorflow/workspace/images/collectedimages/thumbs_up\\0341.xml\n",
      "Image:D:\\TFOD\\TFODCourse\\Tensorflow\\workspace\\images\\collectedimages\\thumbs_up\\0345.jpg -> Annotation:D:/TFOD/TFODCourse/Tensorflow/workspace/images/collectedimages/thumbs_up\\0345.xml\n",
      "Image:D:\\TFOD\\TFODCourse\\Tensorflow\\workspace\\images\\collectedimages\\thumbs_up\\0349.jpg -> Annotation:D:/TFOD/TFODCourse/Tensorflow/workspace/images/collectedimages/thumbs_up\\0349.xml\n",
      "Image:D:\\TFOD\\TFODCourse\\Tensorflow\\workspace\\images\\collectedimages\\thumbs_up\\0353.jpg -> Annotation:D:/TFOD/TFODCourse/Tensorflow/workspace/images/collectedimages/thumbs_up\\0353.xml\n",
      "Image:D:\\TFOD\\TFODCourse\\Tensorflow\\workspace\\images\\collectedimages\\thumbs_up\\0357.jpg -> Annotation:D:/TFOD/TFODCourse/Tensorflow/workspace/images/collectedimages/thumbs_up\\0357.xml\n",
      "Image:D:\\TFOD\\TFODCourse\\Tensorflow\\workspace\\images\\collectedimages\\thumbs_up\\0361.jpg -> Annotation:D:/TFOD/TFODCourse/Tensorflow/workspace/images/collectedimages/thumbs_up\\0361.xml\n",
      "Image:D:\\TFOD\\TFODCourse\\Tensorflow\\workspace\\images\\collectedimages\\thumbs_up\\0365.jpg -> Annotation:D:/TFOD/TFODCourse/Tensorflow/workspace/images/collectedimages/thumbs_up\\0365.xml\n",
      "Image:D:\\TFOD\\TFODCourse\\Tensorflow\\workspace\\images\\collectedimages\\thumbs_up\\0369.jpg -> Annotation:D:/TFOD/TFODCourse/Tensorflow/workspace/images/collectedimages/thumbs_up\\0369.xml\n",
      "Image:D:\\TFOD\\TFODCourse\\Tensorflow\\workspace\\images\\collectedimages\\thumbs_up\\0373.jpg -> Annotation:D:/TFOD/TFODCourse/Tensorflow/workspace/images/collectedimages/thumbs_up\\0373.xml\n",
      "Image:D:\\TFOD\\TFODCourse\\Tensorflow\\workspace\\images\\collectedimages\\thumbs_up\\0377.jpg -> Annotation:D:/TFOD/TFODCourse/Tensorflow/workspace/images/collectedimages/thumbs_up\\0377.xml\n",
      "Image:D:\\TFOD\\TFODCourse\\Tensorflow\\workspace\\images\\collectedimages\\thumbs_up\\0381.jpg -> Annotation:D:/TFOD/TFODCourse/Tensorflow/workspace/images/collectedimages/thumbs_up\\0381.xml\n",
      "Image:D:\\TFOD\\TFODCourse\\Tensorflow\\workspace\\images\\collectedimages\\thumbs_up\\0385.jpg -> Annotation:D:/TFOD/TFODCourse/Tensorflow/workspace/images/collectedimages/thumbs_up\\0385.xml\n",
      "Image:D:\\TFOD\\TFODCourse\\Tensorflow\\workspace\\images\\collectedimages\\thumbs_up\\0389.jpg -> Annotation:D:/TFOD/TFODCourse/Tensorflow/workspace/images/collectedimages/thumbs_up\\0389.xml\n",
      "Image:D:\\TFOD\\TFODCourse\\Tensorflow\\workspace\\images\\collectedimages\\thumbs_up\\0393.jpg -> Annotation:D:/TFOD/TFODCourse/Tensorflow/workspace/images/collectedimages/thumbs_up\\0393.xml\n",
      "Image:D:\\TFOD\\TFODCourse\\Tensorflow\\workspace\\images\\collectedimages\\thumbs_up\\0397.jpg -> Annotation:D:/TFOD/TFODCourse/Tensorflow/workspace/images/collectedimages/thumbs_up\\0397.xml\n",
      "Image:D:\\TFOD\\TFODCourse\\Tensorflow\\workspace\\images\\collectedimages\\thumbs_up\\0401.jpg -> Annotation:D:/TFOD/TFODCourse/Tensorflow/workspace/images/collectedimages/thumbs_up\\0401.xml\n",
      "Image:D:\\TFOD\\TFODCourse\\Tensorflow\\workspace\\images\\collectedimages\\thumbs_up\\0405.jpg -> Annotation:D:/TFOD/TFODCourse/Tensorflow/workspace/images/collectedimages/thumbs_up\\0405.xml\n",
      "Image:D:\\TFOD\\TFODCourse\\Tensorflow\\workspace\\images\\collectedimages\\thumbs_up\\0409.jpg -> Annotation:D:/TFOD/TFODCourse/Tensorflow/workspace/images/collectedimages/thumbs_up\\0409.xml\n",
      "Image:D:\\TFOD\\TFODCourse\\Tensorflow\\workspace\\images\\collectedimages\\thumbs_up\\0413.jpg -> Annotation:D:/TFOD/TFODCourse/Tensorflow/workspace/images/collectedimages/thumbs_up\\0413.xml\n",
      "Image:D:\\TFOD\\TFODCourse\\Tensorflow\\workspace\\images\\collectedimages\\thumbs_up\\0417.jpg -> Annotation:D:/TFOD/TFODCourse/Tensorflow/workspace/images/collectedimages/thumbs_up\\0417.xml\n",
      "Image:D:\\TFOD\\TFODCourse\\Tensorflow\\workspace\\images\\collectedimages\\thumbs_up\\0421.jpg -> Annotation:D:/TFOD/TFODCourse/Tensorflow/workspace/images/collectedimages/thumbs_up\\0421.xml\n",
      "Image:D:\\TFOD\\TFODCourse\\Tensorflow\\workspace\\images\\collectedimages\\thumbs_up\\0425.jpg -> Annotation:D:/TFOD/TFODCourse/Tensorflow/workspace/images/collectedimages/thumbs_up\\0425.xml\n",
      "Image:D:\\TFOD\\TFODCourse\\Tensorflow\\workspace\\images\\collectedimages\\thumbs_up\\0429.jpg -> Annotation:D:/TFOD/TFODCourse/Tensorflow/workspace/images/collectedimages/thumbs_up\\0429.xml\n",
      "Image:D:\\TFOD\\TFODCourse\\Tensorflow\\workspace\\images\\collectedimages\\thumbs_up\\0433.jpg -> Annotation:D:/TFOD/TFODCourse/Tensorflow/workspace/images/collectedimages/thumbs_up\\0433.xml\n",
      "Image:D:\\TFOD\\TFODCourse\\Tensorflow\\workspace\\images\\collectedimages\\thumbs_up\\0437.jpg -> Annotation:D:/TFOD/TFODCourse/Tensorflow/workspace/images/collectedimages/thumbs_up\\0437.xml\n",
      "Image:D:\\TFOD\\TFODCourse\\Tensorflow\\workspace\\images\\collectedimages\\thumbs_up\\0441.jpg -> Annotation:D:/TFOD/TFODCourse/Tensorflow/workspace/images/collectedimages/thumbs_up\\0441.xml\n",
      "Image:D:\\TFOD\\TFODCourse\\Tensorflow\\workspace\\images\\collectedimages\\thumbs_up\\0445.jpg -> Annotation:D:/TFOD/TFODCourse/Tensorflow/workspace/images/collectedimages/thumbs_up\\0445.xml\n",
      "Image:D:\\TFOD\\TFODCourse\\Tensorflow\\workspace\\images\\collectedimages\\thumbs_up\\0449.jpg -> Annotation:D:/TFOD/TFODCourse/Tensorflow/workspace/images/collectedimages/thumbs_up\\0449.xml\n",
      "Image:D:\\TFOD\\TFODCourse\\Tensorflow\\workspace\\images\\collectedimages\\thumbs_up\\0453.jpg -> Annotation:D:/TFOD/TFODCourse/Tensorflow/workspace/images/collectedimages/thumbs_up\\0453.xml\n",
      "Image:D:\\TFOD\\TFODCourse\\Tensorflow\\workspace\\images\\collectedimages\\thumbs_up\\0457.jpg -> Annotation:D:/TFOD/TFODCourse/Tensorflow/workspace/images/collectedimages/thumbs_up\\0457.xml\n",
      "Image:D:\\TFOD\\TFODCourse\\Tensorflow\\workspace\\images\\collectedimages\\thumbs_up\\0461.jpg -> Annotation:D:/TFOD/TFODCourse/Tensorflow/workspace/images/collectedimages/thumbs_up\\0461.xml\n",
      "Image:D:\\TFOD\\TFODCourse\\Tensorflow\\workspace\\images\\collectedimages\\thumbs_up\\0465.jpg -> Annotation:D:/TFOD/TFODCourse/Tensorflow/workspace/images/collectedimages/thumbs_up\\0465.xml\n",
      "Image:D:\\TFOD\\TFODCourse\\Tensorflow\\workspace\\images\\collectedimages\\thumbs_up\\0469.jpg -> Annotation:D:/TFOD/TFODCourse/Tensorflow/workspace/images/collectedimages/thumbs_up\\0469.xml\n",
      "Image:D:\\TFOD\\TFODCourse\\Tensorflow\\workspace\\images\\collectedimages\\thumbs_up\\0473.jpg -> Annotation:D:/TFOD/TFODCourse/Tensorflow/workspace/images/collectedimages/thumbs_up\\0473.xml\n",
      "Image:D:\\TFOD\\TFODCourse\\Tensorflow\\workspace\\images\\collectedimages\\thumbs_up\\0477.jpg -> Annotation:D:/TFOD/TFODCourse/Tensorflow/workspace/images/collectedimages/thumbs_up\\0477.xml\n",
      "Image:D:\\TFOD\\TFODCourse\\Tensorflow\\workspace\\images\\collectedimages\\thumbs_up\\0481.jpg -> Annotation:D:/TFOD/TFODCourse/Tensorflow/workspace/images/collectedimages/thumbs_up\\0481.xml\n",
      "Image:D:\\TFOD\\TFODCourse\\Tensorflow\\workspace\\images\\collectedimages\\thumbs_up\\0485.jpg -> Annotation:D:/TFOD/TFODCourse/Tensorflow/workspace/images/collectedimages/thumbs_up\\0485.xml\n",
      "Image:D:\\TFOD\\TFODCourse\\Tensorflow\\workspace\\images\\collectedimages\\thumbs_up\\0489.jpg -> Annotation:D:/TFOD/TFODCourse/Tensorflow/workspace/images/collectedimages/thumbs_up\\0489.xml\n",
      "Image:D:\\TFOD\\TFODCourse\\Tensorflow\\workspace\\images\\collectedimages\\thumbs_up\\0493.jpg -> Annotation:D:/TFOD/TFODCourse/Tensorflow/workspace/images/collectedimages/thumbs_up\\0493.xml\n",
      "Image:D:\\TFOD\\TFODCourse\\Tensorflow\\workspace\\images\\collectedimages\\thumbs_up\\0497.jpg -> Annotation:D:/TFOD/TFODCourse/Tensorflow/workspace/images/collectedimages/thumbs_up\\0497.xml\n"
     ]
    }
   ],
   "source": [
    "!cd {LABELIMG_PATH} && python labelImg.py #starts labelimg"
   ]
  },
  {
   "cell_type": "markdown",
   "metadata": {},
   "source": [
    "# 6. Move them into a Training and Testing Partition"
   ]
  },
  {
   "cell_type": "markdown",
   "metadata": {},
   "source": [
    "# OPTIONAL - 7. Compress them for Colab Training"
   ]
  },
  {
   "cell_type": "code",
   "execution_count": 20,
   "metadata": {},
   "outputs": [],
   "source": [
    "TRAIN_PATH = os.path.join('Tensorflow', 'workspace', 'images', 'train')\n",
    "TEST_PATH = os.path.join('Tensorflow', 'workspace', 'images', 'test')\n",
    "ARCHIVE_PATH = os.path.join('Tensorflow', 'workspace', 'images', 'archive.tar.gz')"
   ]
  },
  {
   "cell_type": "code",
   "execution_count": 21,
   "metadata": {},
   "outputs": [],
   "source": [
    "!tar -czf {ARCHIVE_PATH} {TRAIN_PATH} {TEST_PATH}"
   ]
  },
  {
   "cell_type": "code",
   "execution_count": null,
   "metadata": {},
   "outputs": [],
   "source": []
  }
 ],
 "metadata": {
  "kernelspec": {
   "display_name": "tfod",
   "language": "python",
   "name": "tfod"
  },
  "language_info": {
   "codemirror_mode": {
    "name": "ipython",
    "version": 3
   },
   "file_extension": ".py",
   "mimetype": "text/x-python",
   "name": "python",
   "nbconvert_exporter": "python",
   "pygments_lexer": "ipython3",
   "version": "3.10.6"
  }
 },
 "nbformat": 4,
 "nbformat_minor": 2
}
